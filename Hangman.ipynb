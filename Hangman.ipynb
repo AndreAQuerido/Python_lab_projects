{
 "cells": [
  {
   "cell_type": "code",
   "execution_count": 1,
   "metadata": {},
   "outputs": [],
   "source": [
    "#HANGMAN\n",
    "import random\n",
    "import re\n",
    "from logo import stages\n",
    "#All the available words to lowercase\n",
    "words=[i.lower() for i in [\"dog\",\"pinappele\",\"love\",\"\"]]\n",
    "\n",
    "display=[]\n",
    "\n",
    "right_word=\"\"\n",
    "trys= 0\n",
    "\n",
    "\n",
    "def choose_word():\n",
    "    \n",
    "    \"\"\"Function responsible to generate a random word\"\"\"\n",
    "\n",
    "    global right_word\n",
    "    right_word=random.choice(words)\n",
    "   \n",
    "\n",
    "def create_blank():\n",
    "\n",
    "    \"\"\"After creating a random word use this function\n",
    "        to display the word as '_' spaces \"\"\"\n",
    "\n",
    "    global trys\n",
    "    global display\n",
    "    trys= len(stages)-1\n",
    "    display=[\"_\" for i in range(0,len(right_word))]\n",
    "    print(\" \".join(display))\n"
   ]
  },
  {
   "cell_type": "code",
   "execution_count": 2,
   "metadata": {},
   "outputs": [],
   "source": [
    "def right_letter(letter)->str:\n",
    "    \n",
    "    \"\"\"Responsible to verify if is the right letter and replace in the display \"\"\"\n",
    "    global trys\n",
    "    global display\n",
    "    if letter in right_word:\n",
    "       print(\"U guessed right, keep going!\")\n",
    "       indices=[i.start() for i in re.finditer(letter,right_word)]\n",
    "       #print(indices)\n",
    "       for i in indices:\n",
    "           display[i]=letter\n",
    "    else:\n",
    "        print(f\"{letter} is not in the word\")\n",
    "        print(stages[trys])\n",
    "        trys-=1\n",
    "        print(f\"u have {trys} trys left.\")\n",
    "        \n",
    "    "
   ]
  },
  {
   "cell_type": "code",
   "execution_count": 6,
   "metadata": {},
   "outputs": [],
   "source": [
    "def win():\n",
    "\n",
    "    \"\"\"Funtion responsible to verify the winner\n",
    "        Return: True or False \"\"\"\n",
    "\n",
    "    return \"_\" in display\n"
   ]
  },
  {
   "cell_type": "code",
   "execution_count": 7,
   "metadata": {},
   "outputs": [
    {
     "name": "stdout",
     "output_type": "stream",
     "text": [
      "Welcome to the hangman game!\n",
      "This is your secret word\n",
      "_ _ _ _\n",
      "d is not in the word\n",
      "\n",
      "  +---+\n",
      "  |   |\n",
      "      |\n",
      "      |\n",
      "      |\n",
      "      |\n",
      "=========\n",
      "\n",
      "u have 5 trys left.\n",
      "_ _ _ _\n",
      "U guessed right, keep going!\n"
     ]
    },
    {
     "ename": "IndexError",
     "evalue": "list assignment index out of range",
     "output_type": "error",
     "traceback": [
      "\u001b[0;31m---------------------------------------------------------------------------\u001b[0m",
      "\u001b[0;31mIndexError\u001b[0m                                Traceback (most recent call last)",
      "\u001b[1;32m/home/andre/Desktop/pythonProject/HangmanGroup/python/Hangman.ipynb Cell 4'\u001b[0m in \u001b[0;36m<cell line: 20>\u001b[0;34m()\u001b[0m\n\u001b[1;32m     <a href='vscode-notebook-cell:/home/andre/Desktop/pythonProject/HangmanGroup/python/Hangman.ipynb#ch0000003?line=16'>17</a>\u001b[0m     \u001b[39mif\u001b[39;00m cont\u001b[39m==\u001b[39m\u001b[39m\"\u001b[39m\u001b[39myes\u001b[39m\u001b[39m\"\u001b[39m:\n\u001b[1;32m     <a href='vscode-notebook-cell:/home/andre/Desktop/pythonProject/HangmanGroup/python/Hangman.ipynb#ch0000003?line=17'>18</a>\u001b[0m         start_game()\n\u001b[0;32m---> <a href='vscode-notebook-cell:/home/andre/Desktop/pythonProject/HangmanGroup/python/Hangman.ipynb#ch0000003?line=19'>20</a>\u001b[0m start_game()\n",
      "\u001b[1;32m/home/andre/Desktop/pythonProject/HangmanGroup/python/Hangman.ipynb Cell 4'\u001b[0m in \u001b[0;36mstart_game\u001b[0;34m()\u001b[0m\n\u001b[1;32m      <a href='vscode-notebook-cell:/home/andre/Desktop/pythonProject/HangmanGroup/python/Hangman.ipynb#ch0000003?line=7'>8</a>\u001b[0m \u001b[39mwhile\u001b[39;00m win() \u001b[39mand\u001b[39;00m trys\u001b[39m>\u001b[39m\u001b[39m0\u001b[39m:\n\u001b[1;32m      <a href='vscode-notebook-cell:/home/andre/Desktop/pythonProject/HangmanGroup/python/Hangman.ipynb#ch0000003?line=8'>9</a>\u001b[0m     letter\u001b[39m=\u001b[39m\u001b[39minput\u001b[39m(\u001b[39m\"\u001b[39m\u001b[39mPls guess a letter\u001b[39m\u001b[39m\"\u001b[39m)\u001b[39m.\u001b[39mlower()\n\u001b[0;32m---> <a href='vscode-notebook-cell:/home/andre/Desktop/pythonProject/HangmanGroup/python/Hangman.ipynb#ch0000003?line=9'>10</a>\u001b[0m     right_letter(letter)\n\u001b[1;32m     <a href='vscode-notebook-cell:/home/andre/Desktop/pythonProject/HangmanGroup/python/Hangman.ipynb#ch0000003?line=10'>11</a>\u001b[0m     \u001b[39mprint\u001b[39m(\u001b[39m\"\u001b[39m\u001b[39m \u001b[39m\u001b[39m\"\u001b[39m\u001b[39m.\u001b[39mjoin(display))\n\u001b[1;32m     <a href='vscode-notebook-cell:/home/andre/Desktop/pythonProject/HangmanGroup/python/Hangman.ipynb#ch0000003?line=11'>12</a>\u001b[0m \u001b[39mif\u001b[39;00m \u001b[39mnot\u001b[39;00m win():\n",
      "\u001b[1;32m/home/andre/Desktop/pythonProject/HangmanGroup/python/Hangman.ipynb Cell 2'\u001b[0m in \u001b[0;36mright_letter\u001b[0;34m(letter)\u001b[0m\n\u001b[1;32m      <a href='vscode-notebook-cell:/home/andre/Desktop/pythonProject/HangmanGroup/python/Hangman.ipynb#ch0000001?line=8'>9</a>\u001b[0m    \u001b[39m#print(indices)\u001b[39;00m\n\u001b[1;32m     <a href='vscode-notebook-cell:/home/andre/Desktop/pythonProject/HangmanGroup/python/Hangman.ipynb#ch0000001?line=9'>10</a>\u001b[0m    \u001b[39mfor\u001b[39;00m i \u001b[39min\u001b[39;00m indices:\n\u001b[0;32m---> <a href='vscode-notebook-cell:/home/andre/Desktop/pythonProject/HangmanGroup/python/Hangman.ipynb#ch0000001?line=10'>11</a>\u001b[0m        display[i]\u001b[39m=\u001b[39mletter\n\u001b[1;32m     <a href='vscode-notebook-cell:/home/andre/Desktop/pythonProject/HangmanGroup/python/Hangman.ipynb#ch0000001?line=11'>12</a>\u001b[0m \u001b[39melse\u001b[39;00m:\n\u001b[1;32m     <a href='vscode-notebook-cell:/home/andre/Desktop/pythonProject/HangmanGroup/python/Hangman.ipynb#ch0000001?line=12'>13</a>\u001b[0m     \u001b[39mprint\u001b[39m(\u001b[39mf\u001b[39m\u001b[39m\"\u001b[39m\u001b[39m{\u001b[39;00mletter\u001b[39m}\u001b[39;00m\u001b[39m is not in the word\u001b[39m\u001b[39m\"\u001b[39m)\n",
      "\u001b[0;31mIndexError\u001b[0m: list assignment index out of range"
     ]
    }
   ],
   "source": [
    "def start_game():\n",
    "    \n",
    "    \"\"\"Responsible for starting the game\"\"\"\n",
    "    \n",
    "    print(\"Welcome to the hangman game!\\nThis is your secret word\")\n",
    "    choose_word()\n",
    "    create_blank()\n",
    "    while win() and trys>0:\n",
    "        letter=input(\"Pls guess a letter\").lower()\n",
    "        right_letter(letter)\n",
    "        print(\" \".join(display))\n",
    "    if not win():\n",
    "        print(\"Congratulations u won the game\")\n",
    "    else:\n",
    "        print(\"Game Over! U lost.\")\n",
    "    cont=input(\"Wanna try again? yes or no?\\n\").lower()\n",
    "    if cont==\"yes\":\n",
    "        start_game()\n",
    "   \n",
    "start_game()"
   ]
  }
 ],
 "metadata": {
  "interpreter": {
   "hash": "ac1f3bbe2eb8d706f4a614aea944314f1f0390b84581edcdd59f694e1d29ddec"
  },
  "kernelspec": {
   "display_name": "Python 3.9.12 ('Python_101')",
   "language": "python",
   "name": "python3"
  },
  "language_info": {
   "codemirror_mode": {
    "name": "ipython",
    "version": 3
   },
   "file_extension": ".py",
   "mimetype": "text/x-python",
   "name": "python",
   "nbconvert_exporter": "python",
   "pygments_lexer": "ipython3",
   "version": "3.9.12"
  },
  "orig_nbformat": 4
 },
 "nbformat": 4,
 "nbformat_minor": 2
}
